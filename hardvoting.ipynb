{
 "cells": [
  {
   "cell_type": "code",
   "execution_count": 1,
   "metadata": {},
   "outputs": [],
   "source": [
    "import pandas as pd\n",
    "import numpy as np\n",
    "import matplotlib.pyplot as plt\n",
    "import cv2\n",
    "from multiprocessing import Pool, cpu_count\n",
    "from tqdm import tqdm\n",
    "\n",
    "#######################################################################\n",
    "df1 = pd.read_csv('/opt/ml/result/hardvoting_result/fold0_9732.csv')\n",
    "df2 = pd.read_csv('/opt/ml/result/hardvoting_result/fold1_9729.csv')\n",
    "df3 = pd.read_csv('/opt/ml/result/hardvoting_result/fold2_9718.csv')\n",
    "df4 = pd.read_csv('/opt/ml/result/hardvoting_result/fold3_9718.csv')\n",
    "df5 = pd.read_csv('/opt/ml/result/hardvoting_result/fold4_9723.csv')\n",
    "\n",
    "df_list = [df1, df2, df3, df4, df5]\n",
    "#######################################################################"
   ]
  },
  {
   "cell_type": "code",
   "execution_count": null,
   "metadata": {},
   "outputs": [],
   "source": [
    "# mask map으로 나오는 인퍼런스 결과를 RLE로 인코딩 합니다. (mask map -> RLE)\n",
    "def encode_mask_to_rle(mask):\n",
    "    '''\n",
    "    mask: numpy array binary mask \n",
    "    1 - mask \n",
    "    0 - background\n",
    "    Returns encoded run length \n",
    "    '''\n",
    "    pixels = mask.flatten()\n",
    "    pixels = np.concatenate([[0], pixels, [0]])\n",
    "    runs = np.where(pixels[1:] != pixels[:-1])[0] + 1\n",
    "    runs[1::2] -= runs[::2]\n",
    "    return ' '.join(str(x) for x in runs)\n",
    "\n",
    "# RLE로 인코딩된 결과를 mask map으로 복원합니다. (RLE -> mask map)\n",
    "def decode_rle_to_mask(rle, height, width):\n",
    "    s = str(rle).split()\n",
    "    starts, lengths = [np.asarray(x, dtype=int) for x in (s[0:][::2], s[1:][::2])]\n",
    "    starts -= 1\n",
    "    ends = starts + lengths\n",
    "    img = np.zeros(height * width, dtype=np.uint8)\n",
    "    \n",
    "    for lo, hi in zip(starts, ends):\n",
    "        img[lo:hi] = 1\n",
    "    \n",
    "    return img.reshape(height, width)"
   ]
  },
  {
   "cell_type": "code",
   "execution_count": 4,
   "metadata": {},
   "outputs": [],
   "source": [
    "threshold = len(df_list)//2     ## e.g. 5개의 prediction중 2개 초과인 경우\n",
    "# threshold = 1                 ## 별도 Threshold 지정 시\n",
    "\n",
    "def process_data(i):\n",
    "    result = np.zeros((2048, 2048), dtype=int)\n",
    "\n",
    "    for df in df_list:\n",
    "        rle = df.rle[i]\n",
    "                \n",
    "        if (rle!=rle):\n",
    "            continue\n",
    "        \n",
    "        mask = decode_rle_to_mask(rle, 2048, 2048)\n",
    "        result += mask\n",
    "    \n",
    "    result = np.where(result > threshold, 1, 0)\n",
    "    df_list[0].rle[i] = encode_mask_to_rle(result)"
   ]
  },
  {
   "cell_type": "code",
   "execution_count": 5,
   "metadata": {},
   "outputs": [
    {
     "name": "stderr",
     "output_type": "stream",
     "text": [
      "100%|██████████| 8700/8700 [03:42<00:00, 39.17it/s]\n"
     ]
    }
   ],
   "source": [
    "num_processes = cpu_count()  \n",
    "\n",
    "with Pool(num_processes) as pool, tqdm(total=len(df1)) as pbar:\n",
    "    for i, _ in enumerate(pool.imap_unordered(process_data, range(len(df1)))):\n",
    "        pbar.update()\n",
    "\n",
    "# csv 파일 저장\n",
    "df_list[0].to_csv(\"hardvote_result.csv\", index=False)"
   ]
  }
 ],
 "metadata": {
  "kernelspec": {
   "display_name": "pytorch",
   "language": "python",
   "name": "python3"
  },
  "language_info": {
   "codemirror_mode": {
    "name": "ipython",
    "version": 3
   },
   "file_extension": ".py",
   "mimetype": "text/x-python",
   "name": "python",
   "nbconvert_exporter": "python",
   "pygments_lexer": "ipython3",
   "version": "3.10.13"
  },
  "orig_nbformat": 4
 },
 "nbformat": 4,
 "nbformat_minor": 2
}

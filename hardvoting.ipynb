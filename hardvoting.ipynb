{
 "cells": [
  {
   "cell_type": "code",
   "execution_count": 35,
   "metadata": {},
   "outputs": [],
   "source": [
    "import pandas as pd\n",
    "import numpy as np\n",
    "import matplotlib.pyplot as plt\n",
    "import cv2\n",
    "import torch\n",
    "from multiprocessing import Pool, cpu_count\n",
    "from tqdm import tqdm\n",
    "\n",
    "#######################################################################\n",
    "df1 = pd.read_csv('result/df1.csv')\n",
    "df2 = pd.read_csv('result/df2.csv')\n",
    "df3 = pd.read_csv('result/df3.csv')\n",
    "# df4 = pd.read_csv('/opt/ml/result/hardvoting_result/fold3_9718.csv')\n",
    "# df5 = pd.read_csv('/opt/ml/result/hardvoting_result/fold4_9723.csv')\n",
    "\n",
    "# df_list = [df1, df2, df3, df4, df5]\n",
    "df_list = [df1, df2, df3]\n",
    "#######################################################################"
   ]
  },
  {
   "cell_type": "code",
   "execution_count": 36,
   "metadata": {},
   "outputs": [],
   "source": [
    "# mask map으로 나오는 인퍼런스 결과를 RLE로 인코딩 합니다. (mask map -> RLE)\n",
    "def encode_mask_to_rle(mask):\n",
    "    '''\n",
    "    mask: numpy array binary mask \n",
    "    1 - mask \n",
    "    0 - background\n",
    "    Returns encoded run length \n",
    "    '''\n",
    "    pixels = mask.flatten()\n",
    "    pixels = np.concatenate([[0], pixels, [0]])\n",
    "    runs = np.where(pixels[1:] != pixels[:-1])[0] + 1\n",
    "    runs[1::2] -= runs[::2]\n",
    "    return ' '.join(str(x) for x in runs)\n",
    "\n",
    "# RLE로 인코딩된 결과를 mask map으로 복원합니다. (RLE -> mask map)\n",
    "def decode_rle_to_mask(rle, height, width):\n",
    "    s = str(rle).split()\n",
    "    starts, lengths = [np.asarray(x, dtype=int) for x in (s[0:][::2], s[1:][::2])]\n",
    "    starts -= 1\n",
    "    ends = starts + lengths\n",
    "    img = np.zeros(height * width, dtype=np.uint8)\n",
    "    \n",
    "    for lo, hi in zip(starts, ends):\n",
    "        img[lo:hi] = 1\n",
    "    \n",
    "    return img.reshape(height, width)"
   ]
  },
  {
   "cell_type": "code",
   "execution_count": 37,
   "metadata": {},
   "outputs": [
    {
     "name": "stderr",
     "output_type": "stream",
     "text": [
      "  0%|          | 0/288 [00:00<?, ?it/s]/tmp/ipykernel_603679/2587036645.py:21: FutureWarning: ChainedAssignmentError: behaviour will change in pandas 3.0!\n",
      "You are setting values through chained assignment. Currently this works in certain cases, but when using Copy-on-Write (which will become the default behaviour in pandas 3.0) this will never work to update the original DataFrame or Series, because the intermediate object on which we are setting values will behave as a copy.\n",
      "A typical example is when you are setting values in a column of a DataFrame, like:\n",
      "\n",
      "df[\"col\"][row_indexer] = value\n",
      "\n",
      "Use `df.loc[row_indexer, \"col\"] = values` instead, to perform the assignment in a single step and ensure this keeps updating the original `df`.\n",
      "\n",
      "See the caveats in the documentation: https://pandas.pydata.org/pandas-docs/stable/user_guide/indexing.html#returning-a-view-versus-a-copy\n",
      "\n",
      "  df_list[0].rle[i+j] = encode_mask_to_rle(result)\n",
      "100%|██████████| 288/288 [17:13<00:00,  3.59s/it]\n"
     ]
    }
   ],
   "source": [
    "threshold = len(df_list)//2\n",
    "\n",
    "# 29 * 288\n",
    "# df length를 29개씩 끊어서 처리\n",
    "for i in tqdm(range(0, len(df1), 29)):\n",
    "    # class number\n",
    "    for j in range(29):\n",
    "        result = np.zeros((2048, 2048), dtype=int)\n",
    "\n",
    "        # ensemble candidates\n",
    "        for idx, df in enumerate(df_list):\n",
    "            rle = df.iloc[i+j].rle\n",
    "            try:\n",
    "                mask = decode_rle_to_mask(rle, 2048, 2048) # 01 matrix\n",
    "                result += mask\n",
    "            except:\n",
    "                continue\n",
    "            \n",
    "        # calculate with threshold\n",
    "        result = np.where(result > threshold, 1, 0)\n",
    "        df_list[0].rle[i+j] = encode_mask_to_rle(result)\n",
    "        \n",
    "df_list[0].to_csv(\"hardvote_result.csv\", index=False)"
   ]
  },
  {
   "cell_type": "code",
   "execution_count": null,
   "metadata": {},
   "outputs": [],
   "source": []
  }
 ],
 "metadata": {
  "kernelspec": {
   "display_name": "pytorch",
   "language": "python",
   "name": "python3"
  },
  "language_info": {
   "codemirror_mode": {
    "name": "ipython",
    "version": 3
   },
   "file_extension": ".py",
   "mimetype": "text/x-python",
   "name": "python",
   "nbconvert_exporter": "python",
   "pygments_lexer": "ipython3",
   "version": "3.10.13"
  },
  "orig_nbformat": 4
 },
 "nbformat": 4,
 "nbformat_minor": 2
}

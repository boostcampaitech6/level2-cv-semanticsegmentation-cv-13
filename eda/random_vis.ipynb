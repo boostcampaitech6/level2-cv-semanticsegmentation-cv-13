{
 "cells": [
  {
   "cell_type": "code",
   "execution_count": 9,
   "metadata": {},
   "outputs": [],
   "source": [
    "import os\n",
    "import json\n",
    "import random\n",
    "\n",
    "from PIL import Image, ImageDraw, ImageFont\n",
    "from glob import glob"
   ]
  },
  {
   "cell_type": "code",
   "execution_count": 10,
   "metadata": {},
   "outputs": [],
   "source": [
    "COLOR = {\n",
    "    'finger': (120,203,228),\n",
    "    'Trapezoid': (145,42,177),\n",
    "    'Pisiform': (145,42,177),\n",
    "    'Radius': (210,71,77),\n",
    "    'Ulna': (210,71,77),\n",
    "    'wrist': (193,223,159)\n",
    "}"
   ]
  },
  {
   "cell_type": "code",
   "execution_count": 33,
   "metadata": {},
   "outputs": [],
   "source": [
    "def random_vis(method: str):\n",
    "    img_root = os.path.join('../data', method, 'DCM')\n",
    "    annot_root = os.path.join('../data', method, 'outputs_json')\n",
    "    \n",
    "    img_items = glob(os.path.dirname(os.path.join(img_root, \"*\", \"*\")))\n",
    "    img_item = random.choice(img_items)\n",
    "    folder_name = img_item.split('/')[-1]\n",
    "    \n",
    "    img_paths = glob(os.path.join(img_item, f\"*.png\"))\n",
    "    annot_paths = glob(os.path.join(annot_root, folder_name, f\"*.json\"))\n",
    "    \n",
    "    l_img_path, r_img_path = sorted(img_paths)\n",
    "    l_annot_path, r_annot_path = sorted(annot_paths)\n",
    "        \n",
    "    l_img = Image.open(l_img_path).convert(\"RGB\")\n",
    "    l_img_draw = ImageDraw.Draw(l_img)\n",
    "    r_img = Image.open(r_img_path).convert(\"RGB\")\n",
    "    r_img_draw = ImageDraw.Draw(r_img)\n",
    "    \n",
    "    l_json = json.load(open(l_annot_path))\n",
    "    r_json = json.load(open(r_annot_path))\n",
    "    \n",
    "    font = ImageFont.truetype(\"ARIAL.TTF\", 20)\n",
    "    lpts, rpts = [], []\n",
    "    for annot in l_json['annotations']:\n",
    "        points = [tuple(pts) for pts in annot['points']]\n",
    "        orin_label = annot['label'] \n",
    "        label = orin_label\n",
    "        if label.startswith('finger'):\n",
    "            label = 'finger'\n",
    "        elif label not in COLOR:\n",
    "            label = 'wrist'\n",
    "        l_img_draw.polygon(points, fill=COLOR[label], outline='black')\n",
    "        cx, cy = sum([p[0] for p in points]) / len(points), sum([p[1] for p in points]) / len(points)\n",
    "        lpts.append((cx, cy, orin_label))\n",
    "        \n",
    "    for annot in r_json['annotations']:\n",
    "        points = [tuple(pts) for pts in annot['points']]\n",
    "        orin_label = annot['label'] \n",
    "        label = orin_label\n",
    "        if label.startswith('finger'):\n",
    "            label = 'finger'\n",
    "        elif label not in COLOR:\n",
    "            label = 'wrist'\n",
    "        r_img_draw.polygon(points, fill=(COLOR[label]), outline='black')\n",
    "        cx, cy = sum([p[0] for p in points]) / len(points), sum([p[1] for p in points]) / len(points)\n",
    "        rpts.append((cx, cy, orin_label))\n",
    "        \n",
    "    for (cx, cy, orin_label) in lpts:\n",
    "        l_img_draw.text((cx, cy), orin_label, fill=((255, 255, 255)), font=font)\n",
    "    for (cx, cy, orin_label) in rpts:\n",
    "        r_img_draw.text((cx, cy), orin_label, fill=((255, 255, 255)), font=font)\n",
    "\n",
    "    if not os.path.exists('vis_res'):\n",
    "        os.makedirs('vis_res')\n",
    "    \n",
    "    l_img.save(os.path.join('vis_res', f\"left.png\"))\n",
    "    r_img.save(os.path.join('vis_res', f\"right.png\"))\n",
    "    "
   ]
  },
  {
   "cell_type": "code",
   "execution_count": 34,
   "metadata": {},
   "outputs": [],
   "source": [
    "random_vis('train')"
   ]
  },
  {
   "cell_type": "code",
   "execution_count": null,
   "metadata": {},
   "outputs": [],
   "source": []
  }
 ],
 "metadata": {
  "kernelspec": {
   "display_name": "base",
   "language": "python",
   "name": "python3"
  },
  "language_info": {
   "codemirror_mode": {
    "name": "ipython",
    "version": 3
   },
   "file_extension": ".py",
   "mimetype": "text/x-python",
   "name": "python",
   "nbconvert_exporter": "python",
   "pygments_lexer": "ipython3",
   "version": "3.10.13"
  }
 },
 "nbformat": 4,
 "nbformat_minor": 2
}

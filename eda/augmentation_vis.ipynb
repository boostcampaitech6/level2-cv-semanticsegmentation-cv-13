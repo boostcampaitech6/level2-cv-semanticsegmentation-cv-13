{
 "cells": [
  {
   "cell_type": "code",
   "execution_count": 33,
   "metadata": {},
   "outputs": [],
   "source": [
    "import os\n",
    "import json\n",
    "import random\n",
    "from typing import List, Tuple, Dict, Union\n",
    "\n",
    "import numpy as np\n",
    "from PIL import Image, ImageDraw, ImageFont\n",
    "from glob import glob\n",
    "import matplotlib.pyplot as plt\n",
    "import matplotlib.patches as patches\n",
    "import albumentations as A"
   ]
  },
  {
   "cell_type": "code",
   "execution_count": 34,
   "metadata": {},
   "outputs": [],
   "source": [
    "test_img_path = sorted(glob('../data/train/*/*/*.png'))[0]"
   ]
  },
  {
   "cell_type": "code",
   "execution_count": 35,
   "metadata": {},
   "outputs": [],
   "source": [
    "test_img = Image.open(test_img_path).convert(\"RGB\")"
   ]
  },
  {
   "cell_type": "code",
   "execution_count": 44,
   "metadata": {},
   "outputs": [],
   "source": [
    "augmentation = {\n",
    "    \"Original\": A.Compose([A.NoOp()]),\n",
    "    \"ChannelShuffle\": A.ChannelShuffle(p=1),\n",
    "    \"CLAHE\": A.CLAHE(p=1),\n",
    "    \"ColorJitter\": A.ColorJitter(p=1),\n",
    "    \"Emboss\": A.Emboss(p=1),\n",
    "    \"GaussNoise\": A.GaussNoise(p=1),\n",
    "    \"RandomBrightness\": A.RandomBrightness(p=1),\n",
    "    \"RandomContrast\": A.RandomContrast(p=1),\n",
    "    \"RandomBrightnessContrast\": A.RandomBrightnessContrast(p=1),\n",
    "    \"UnsharpMask\": A.UnsharpMask(p=1),\n",
    "    \"Equalize\": A.Equalize(p=1),\n",
    "    \"Rotate\": A.Rotate(limit=30, p=1),\n",
    "    \"SafeRotate\": A.SafeRotate(limit=30, p=1),\n",
    "    \"Affine\": A.Affine(p=1),\n",
    "    \"ElasticTransform\": A.ElasticTransform(p=1),\n",
    "    \"GridDistortion\": A.GridDistortion(p=1),\n",
    "    \"OpticalDistortion\": A.OpticalDistortion(p=1),\n",
    "    \"Perspective\": A.Perspective(p=1),\n",
    "    \"PiecewiseAffine\": A.PiecewiseAffine(p=1),\n",
    "    \"ShiftScaleRotate\": A.ShiftScaleRotate(p=1),\n",
    "    \"AdvancedBlur\": A.AdvancedBlur(p=1),\n",
    "    \"Blur\": A.Blur(p=1),\n",
    "    \"MedianBlur\": A.MedianBlur(p=1),\n",
    "    \"MotionBlur\": A.MotionBlur(p=1),\n",
    "    \"GaussianBlur\": A.GaussianBlur(p=1),\n",
    "    \"GlassBlur\": A.GlassBlur(p=1),\n",
    "    \"Superpixels\": A.Superpixels(p=1),\n",
    "    \"ZoomBlur\": A.ZoomBlur(p=1),\n",
    "    \"Defocus\": A.Defocus(p=1),\n",
    "    \"ChannelDropout\": A.ChannelDropout(p=1),\n",
    "    \"CoarseDropout\": A.CoarseDropout(p=1),\n",
    "    \"GridDropout\": A.GridDropout(p=1),\n",
    "}"
   ]
  },
  {
   "cell_type": "code",
   "execution_count": 45,
   "metadata": {},
   "outputs": [],
   "source": [
    "class CustomAug:\n",
    "    def __init__(self, augments: list[Union[A.ImageOnlyTransform, A.DualTransform]]):\n",
    "        self.augments = augments\n",
    "        self.set_transform()\n",
    "            \n",
    "    def set_transform(self):\n",
    "        _transform = []\n",
    "        for augment in self.augments:\n",
    "            _transform.append(augment)\n",
    "        self.transform = A.Compose(_transform)\n",
    "        \n",
    "    def __call__(self, image: Image):\n",
    "        image = np.array(image)\n",
    "        image = self.transform(image=image)['image']\n",
    "        return image"
   ]
  },
  {
   "cell_type": "code",
   "execution_count": null,
   "metadata": {},
   "outputs": [],
   "source": [
    "length = len(augmentation)\n",
    "rows, cols = round(length/5), 5\n",
    "fig, axes = plt.subplots(nrows=rows, ncols=cols, figsize=(20, 30))\n",
    "\n",
    "for i, (name, augment) in enumerate(augmentation.items()):\n",
    "    r, c = i//cols, i%cols\n",
    "    axes[r][c].imshow(CustomAug([augment])(test_img))\n",
    "    axes[r][c].set_title(name)\n",
    "    axes[r][c].axis('off')\n"
   ]
  }
 ],
 "metadata": {
  "kernelspec": {
   "display_name": "base",
   "language": "python",
   "name": "python3"
  },
  "language_info": {
   "codemirror_mode": {
    "name": "ipython",
    "version": 3
   },
   "file_extension": ".py",
   "mimetype": "text/x-python",
   "name": "python",
   "nbconvert_exporter": "python",
   "pygments_lexer": "ipython3",
   "version": "3.10.13"
  }
 },
 "nbformat": 4,
 "nbformat_minor": 2
}
